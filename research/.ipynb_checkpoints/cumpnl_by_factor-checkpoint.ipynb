{
 "cells": [
  {
   "cell_type": "code",
   "execution_count": null,
   "id": "54c542cf",
   "metadata": {},
   "outputs": [],
   "source": [
    "import pandas as pd\n",
    "import os\n",
    "import numpy as np\n",
    "import matplotlib.pyplot as plt\n",
    "import datetime\n",
    "import seaborn as sns\n",
    "\n",
    "%matplotlib inline\n",
    "\n",
    "\n",
    "sector_group_name_list = ['cm_cn_group_grains_oilseeds', 'cm_cn_group_livestock', 'cm_cn_group_softs',\n",
    "                          'cm_cn_group_base_metal', 'cm_cn_group_black', 'cm_cn_group_chemicals', 'cm_cn_group_energy',\n",
    "                          'cm_cn_group_stock_index', 'cm_cn_group_interest_rate', 'cm_cn_sector_agriculture',\n",
    "                          'cm_cn_sector_industrials', 'cm_cn_sector_refineries', 'cm_cn_sector_financial', 'cm_cn_all']\n",
    "fut_code_list = ['A.DCE', 'AL.SHF', 'AP.CZC', 'BU.SHF', 'C.DCE', 'CF.CZC', 'CJ.CZC', 'CS.DCE', 'CU.SHF', 'EB.DCE',\n",
    "                 'EG.DCE', 'FG.CZC', 'FU.SHF', 'HC.SHF', 'IC.CFE', 'I.DCE', 'IF.CFE', 'IH.CFE', 'J.DCE', 'JD.DCE',\n",
    "                 'JM.DCE', 'L.DCE', 'LH.DCE', 'MA.CZC', 'M.DCE', 'NI.SHF', 'OI.CZC', 'PB.SHF', 'P.DCE', 'PF.CZC',\n",
    "                 'PG.DCE', 'PK.CZC', 'PP.DCE', 'RB.SHF', 'RM.CZC', 'RU.SHF', 'SA.CZC', 'SF.CZC', 'SM.CZC', 'SN.SHF',\n",
    "                 'SP.SHF', 'SR.CZC', 'SS.SHF', 'TA.CZC', 'T.CFE', 'TF.CFE', 'TS.CFE', 'UR.CZC', 'V.DCE', 'Y.DCE',\n",
    "                 'ZC.CZC', 'ZN.SHF']"
   ]
  },
  {
   "cell_type": "code",
   "execution_count": null,
   "id": "21847095",
   "metadata": {},
   "outputs": [],
   "source": [
    "parent_path='C:\\\\Users\\\\jason.huang\\\\research\\\\backtest\\\\single_factor_test\\\\cashbasis_front_contract_test\\\\\\equal_amount_result_mad_delete_with_sign_switch\\\\'\n",
    "file_path = parent_path+'result\\\\'\n",
    "file_path_long=parent_path+'result_long\\\\'\n",
    "file_path_short=parent_path+'result_short\\\\'\n",
    "name = 'cm_cn_group_base_metal'\n",
    "fee = 0"
   ]
  },
  {
   "cell_type": "code",
   "execution_count": null,
   "id": "161f0fe1",
   "metadata": {},
   "outputs": [],
   "source": [
    "if fee == 0:\n",
    "    fee_str = '_no_fee'\n",
    "else:\n",
    "    fee_str = ''\n",
    "\n",
    "if '.' in name:\n",
    "    sheet_name = 'cum_pnl' + fee_str\n",
    "else:\n",
    "    sheet_name = 'sector_cum_pnl' + fee_str\n",
    "\n",
    "data_all=pd.DataFrame()\n",
    "for i in range(len(os.listdir(file_path))):\n",
    "    try:\n",
    "        file_name=os.listdir(file_path)[i]\n",
    "        if file_name[-10:-5]=='ttm40':\n",
    "            pass\n",
    "        else:\n",
    "            file_location=file_path+file_name\n",
    "            data=pd.read_excel(file_location,sheet_name,index_col=0)\n",
    "            data=data[name]\n",
    "            data=pd.DataFrame(data)\n",
    "            data.columns=[file_name[:-5]]\n",
    "            data_all=pd.concat([data_all,data],axis=1)\n",
    "    except Exception as e:\n",
    "        pass\n",
    "\n",
    "data_all_ttm=pd.DataFrame()\n",
    "for i in range(len(os.listdir(file_path))):\n",
    "    try:\n",
    "        file_name=os.listdir(file_path)[i]\n",
    "        if  file_name[-10:-5]=='ttm40':\n",
    "            file_location=file_path+file_name\n",
    "            data=pd.read_excel(file_location,sheet_name,index_col=0)\n",
    "            data=data[name]\n",
    "            data=pd.DataFrame(data)\n",
    "            data.columns=[file_name[:-5]]\n",
    "            data_all_ttm=pd.concat([data_all_ttm,data],axis=1)\n",
    "    except Exception as e:\n",
    "        pass\n",
    "data_all.columns=[x[:-4] for x in data_all.columns]\n",
    "data_all = data_all.reindex(sorted(data_all.columns), axis=1)\n",
    "data_all_ttm.columns=[x[:-6] for x in data_all_ttm.columns]\n",
    "\n",
    "data_all_ttm = data_all_ttm.reindex(sorted(data_all_ttm.columns), axis=1)\n"
   ]
  },
  {
   "cell_type": "code",
   "execution_count": null,
   "id": "4452e1d3",
   "metadata": {},
   "outputs": [],
   "source": [
    "plt.rcParams['figure.figsize'] = [20,10]\n",
    "sns.lineplot(data=data_all[[x for x in data_all.columns if 'switch' not in x]])\n",
    "plt.title('long short all')"
   ]
  },
  {
   "cell_type": "code",
   "execution_count": null,
   "id": "d0992770",
   "metadata": {},
   "outputs": [],
   "source": [
    "plt.rcParams['figure.figsize'] = [20,10]\n",
    "sns.lineplot(data=data_all[[x for x in data_all.columns if 'switch'  in x]])\n",
    "plt.title('long short all with signwsitch')"
   ]
  },
  {
   "cell_type": "code",
   "execution_count": null,
   "id": "9e84b571",
   "metadata": {},
   "outputs": [],
   "source": [
    "plt.rcParams['figure.figsize'] = [20,10]\n",
    "sns.lineplot(data=data_all_ttm[[x for x in data_all_ttm.columns if 'switch' not in x]])\n",
    "plt.title('long short TTM40')"
   ]
  },
  {
   "cell_type": "code",
   "execution_count": null,
   "id": "4900b7d6",
   "metadata": {},
   "outputs": [],
   "source": [
    "plt.rcParams['figure.figsize'] = [20,10]\n",
    "sns.lineplot(data=data_all_ttm[[x for x in data_all_ttm.columns if 'switch'  in x]])\n",
    "plt.title('longshort TTM40 with signwsitch')"
   ]
  },
  {
   "cell_type": "code",
   "execution_count": null,
   "id": "b3b91032",
   "metadata": {},
   "outputs": [],
   "source": [
    "if fee == 0:\n",
    "    fee_str = '_no_fee'\n",
    "else:\n",
    "    fee_str = ''\n",
    "\n",
    "if '.' in name:\n",
    "    sheet_name = 'cum_pnl' + fee_str\n",
    "else:\n",
    "    sheet_name = 'sector_cum_pnl' + fee_str\n",
    "\n",
    "data_all=pd.DataFrame()\n",
    "for i in range(len(os.listdir(file_path_long))):\n",
    "    try:\n",
    "        file_name=os.listdir(file_path_long)[i]\n",
    "        if file_name[-10:-5]=='ttm40':\n",
    "            pass\n",
    "        else:\n",
    "            file_location=file_path_long+file_name\n",
    "            data=pd.read_excel(file_location,sheet_name,index_col=0)\n",
    "            data=data[name]\n",
    "            data=pd.DataFrame(data)\n",
    "            data.columns=[file_name[:-5]]\n",
    "            data_all=pd.concat([data_all,data],axis=1)\n",
    "    except Exception as e:\n",
    "        pass\n",
    "\n",
    "data_all_ttm=pd.DataFrame()\n",
    "for i in range(len(os.listdir(file_path_long))):\n",
    "    try:\n",
    "        file_name=os.listdir(file_path_long)[i]\n",
    "        if  file_name[-10:-5]=='ttm40':\n",
    "            file_location=file_path_long+file_name\n",
    "            data=pd.read_excel(file_location,sheet_name,index_col=0)\n",
    "            data=data[name]\n",
    "            data=pd.DataFrame(data)\n",
    "            data.columns=[file_name[:-5]]\n",
    "            data_all_ttm=pd.concat([data_all_ttm,data],axis=1)\n",
    "    except Exception as e:\n",
    "        pass\n",
    "data_all.columns=[x[:-4] for x in data_all.columns]\n",
    "data_all = data_all.reindex(sorted(data_all.columns), axis=1)\n",
    "data_all_ttm.columns=[x[:-6] for x in data_all_ttm.columns]\n",
    "\n",
    "data_all_ttm = data_all_ttm.reindex(sorted(data_all_ttm.columns), axis=1)\n"
   ]
  },
  {
   "cell_type": "code",
   "execution_count": null,
   "id": "10bb5b7f",
   "metadata": {},
   "outputs": [],
   "source": [
    "plt.rcParams['figure.figsize'] = [20,10]\n",
    "sns.lineplot(data=data_all[[x for x in data_all.columns if 'switch' not in x]])\n",
    "plt.title('long all')"
   ]
  },
  {
   "cell_type": "code",
   "execution_count": null,
   "id": "d1fbd8f3",
   "metadata": {},
   "outputs": [],
   "source": [
    "plt.rcParams['figure.figsize'] = [20,10]\n",
    "sns.lineplot(data=data_all[[x for x in data_all.columns if 'switch'  in x]])\n",
    "plt.title('long all with signwsitch')"
   ]
  },
  {
   "cell_type": "code",
   "execution_count": null,
   "id": "8bef0f10",
   "metadata": {},
   "outputs": [],
   "source": [
    "plt.rcParams['figure.figsize'] = [20,10]\n",
    "sns.lineplot(data=data_all_ttm[[x for x in data_all_ttm.columns if 'switch' not in x]])\n",
    "plt.title('long TTM40')"
   ]
  },
  {
   "cell_type": "code",
   "execution_count": null,
   "id": "56e696a1",
   "metadata": {},
   "outputs": [],
   "source": [
    "plt.rcParams['figure.figsize'] = [20,10]\n",
    "sns.lineplot(data=data_all_ttm[[x for x in data_all_ttm.columns if 'switch'  in x]])\n",
    "plt.title('long TTM40 with signwsitch')"
   ]
  },
  {
   "cell_type": "code",
   "execution_count": null,
   "id": "c06c053a",
   "metadata": {},
   "outputs": [],
   "source": [
    "if fee == 0:\n",
    "    fee_str = '_no_fee'\n",
    "else:\n",
    "    fee_str = ''\n",
    "\n",
    "if '.' in name:\n",
    "    sheet_name = 'cum_pnl' + fee_str\n",
    "else:\n",
    "    sheet_name = 'sector_cum_pnl' + fee_str\n",
    "\n",
    "data_all=pd.DataFrame()\n",
    "for i in range(len(os.listdir(file_path_short))):\n",
    "    try:\n",
    "        file_name=os.listdir(file_path_short)[i]\n",
    "        if file_name[-10:-5]=='ttm40':\n",
    "            pass\n",
    "        else:\n",
    "            file_location=file_path_short+file_name\n",
    "            data=pd.read_excel(file_location,sheet_name,index_col=0)\n",
    "            data=data[name]\n",
    "            data=pd.DataFrame(data)\n",
    "            data.columns=[file_name[:-5]]\n",
    "            data_all=pd.concat([data_all,data],axis=1)\n",
    "    except Exception as e:\n",
    "        pass\n",
    "\n",
    "data_all_ttm=pd.DataFrame()\n",
    "for i in range(len(os.listdir(file_path_short))):\n",
    "    try:\n",
    "        file_name=os.listdir(file_path_short)[i]\n",
    "        if  file_name[-10:-5]=='ttm40':\n",
    "            file_location=file_path_short+file_name\n",
    "            data=pd.read_excel(file_location,sheet_name,index_col=0)\n",
    "            data=data[name]\n",
    "            data=pd.DataFrame(data)\n",
    "            data.columns=[file_name[:-5]]\n",
    "            data_all_ttm=pd.concat([data_all_ttm,data],axis=1)\n",
    "    except Exception as e:\n",
    "        pass\n",
    "data_all.columns=[x[:-4] for x in data_all.columns]\n",
    "data_all = data_all.reindex(sorted(data_all.columns), axis=1)\n",
    "data_all_ttm.columns=[x[:-6] for x in data_all_ttm.columns]\n",
    "\n",
    "data_all_ttm = data_all_ttm.reindex(sorted(data_all_ttm.columns), axis=1)\n",
    "\n",
    "plt.rcParams['figure.figsize'] = [20,10]\n",
    "sns.lineplot(data=data_all)"
   ]
  },
  {
   "cell_type": "code",
   "execution_count": null,
   "id": "acbb1025",
   "metadata": {},
   "outputs": [],
   "source": [
    "plt.rcParams['figure.figsize'] = [20,10]\n",
    "sns.lineplot(data=data_all[[x for x in data_all.columns if 'switch' not in x]])\n",
    "plt.title('short all')"
   ]
  },
  {
   "cell_type": "code",
   "execution_count": null,
   "id": "f30db963",
   "metadata": {},
   "outputs": [],
   "source": [
    "plt.rcParams['figure.figsize'] = [20,10]\n",
    "sns.lineplot(data=data_all[[x for x in data_all.columns if 'switch'  in x]])\n",
    "plt.title('short all with signwsitch')"
   ]
  },
  {
   "cell_type": "code",
   "execution_count": null,
   "id": "7d6bb7af",
   "metadata": {},
   "outputs": [],
   "source": [
    "plt.rcParams['figure.figsize'] = [20,10]\n",
    "sns.lineplot(data=data_all_ttm[[x for x in data_all_ttm.columns if 'switch' not in x]])\n",
    "plt.title('short TTM40')"
   ]
  },
  {
   "cell_type": "code",
   "execution_count": null,
   "id": "f40a8153",
   "metadata": {},
   "outputs": [],
   "source": [
    "plt.rcParams['figure.figsize'] = [20,10]\n",
    "sns.lineplot(data=data_all_ttm[[x for x in data_all_ttm.columns if 'switch'  in x]])\n",
    "plt.title('short TTM40 with signwsitch')"
   ]
  }
 ],
 "metadata": {
  "kernelspec": {
   "display_name": "Python 3 (ipykernel)",
   "language": "python",
   "name": "python3"
  },
  "language_info": {
   "codemirror_mode": {
    "name": "ipython",
    "version": 3
   },
   "file_extension": ".py",
   "mimetype": "text/x-python",
   "name": "python",
   "nbconvert_exporter": "python",
   "pygments_lexer": "ipython3",
   "version": "3.9.12"
  }
 },
 "nbformat": 4,
 "nbformat_minor": 5
}
