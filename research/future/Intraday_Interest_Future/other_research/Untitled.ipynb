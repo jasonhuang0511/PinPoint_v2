{
 "cells": [
  {
   "cell_type": "code",
   "execution_count": 1,
   "id": "cb014448",
   "metadata": {},
   "outputs": [],
   "source": [
    "import pandas as pd\n",
    "import os\n",
    "import numpy as np"
   ]
  },
  {
   "cell_type": "code",
   "execution_count": 2,
   "id": "475f3f9a",
   "metadata": {},
   "outputs": [],
   "source": [
    "data=pd.read_csv(\"signal.csv\",index_col=0)"
   ]
  },
  {
   "cell_type": "code",
   "execution_count": 3,
   "id": "98a62ddd",
   "metadata": {},
   "outputs": [
    {
     "data": {
      "text/html": [
       "<div>\n",
       "<style scoped>\n",
       "    .dataframe tbody tr th:only-of-type {\n",
       "        vertical-align: middle;\n",
       "    }\n",
       "\n",
       "    .dataframe tbody tr th {\n",
       "        vertical-align: top;\n",
       "    }\n",
       "\n",
       "    .dataframe thead th {\n",
       "        text-align: right;\n",
       "    }\n",
       "</style>\n",
       "<table border=\"1\" class=\"dataframe\">\n",
       "  <thead>\n",
       "    <tr style=\"text-align: right;\">\n",
       "      <th></th>\n",
       "      <th>signal</th>\n",
       "      <th>ret</th>\n",
       "      <th>cumsum</th>\n",
       "    </tr>\n",
       "  </thead>\n",
       "  <tbody>\n",
       "    <tr>\n",
       "      <th>2016-12-15</th>\n",
       "      <td>-0.014380</td>\n",
       "      <td>0.000104</td>\n",
       "      <td>0.000104</td>\n",
       "    </tr>\n",
       "    <tr>\n",
       "      <th>2016-12-19</th>\n",
       "      <td>-0.012308</td>\n",
       "      <td>-0.011125</td>\n",
       "      <td>-0.011021</td>\n",
       "    </tr>\n",
       "    <tr>\n",
       "      <th>2015-04-16</th>\n",
       "      <td>-0.011630</td>\n",
       "      <td>0.000072</td>\n",
       "      <td>-0.010949</td>\n",
       "    </tr>\n",
       "    <tr>\n",
       "      <th>2017-02-03</th>\n",
       "      <td>-0.009918</td>\n",
       "      <td>-0.000761</td>\n",
       "      <td>-0.011709</td>\n",
       "    </tr>\n",
       "    <tr>\n",
       "      <th>2015-06-01</th>\n",
       "      <td>-0.007005</td>\n",
       "      <td>0.003015</td>\n",
       "      <td>-0.008695</td>\n",
       "    </tr>\n",
       "    <tr>\n",
       "      <th>...</th>\n",
       "      <td>...</td>\n",
       "      <td>...</td>\n",
       "      <td>...</td>\n",
       "    </tr>\n",
       "    <tr>\n",
       "      <th>2020-04-07</th>\n",
       "      <td>0.009082</td>\n",
       "      <td>-0.001477</td>\n",
       "      <td>-0.144040</td>\n",
       "    </tr>\n",
       "    <tr>\n",
       "      <th>2015-06-16</th>\n",
       "      <td>0.009332</td>\n",
       "      <td>0.001077</td>\n",
       "      <td>-0.142963</td>\n",
       "    </tr>\n",
       "    <tr>\n",
       "      <th>2015-10-09</th>\n",
       "      <td>0.009408</td>\n",
       "      <td>0.002818</td>\n",
       "      <td>-0.140145</td>\n",
       "    </tr>\n",
       "    <tr>\n",
       "      <th>2016-12-16</th>\n",
       "      <td>0.010620</td>\n",
       "      <td>0.000559</td>\n",
       "      <td>-0.139586</td>\n",
       "    </tr>\n",
       "    <tr>\n",
       "      <th>2016-12-29</th>\n",
       "      <td>0.016041</td>\n",
       "      <td>0.003327</td>\n",
       "      <td>-0.136258</td>\n",
       "    </tr>\n",
       "  </tbody>\n",
       "</table>\n",
       "<p>1191 rows × 3 columns</p>\n",
       "</div>"
      ],
      "text/plain": [
       "              signal       ret    cumsum\n",
       "2016-12-15 -0.014380  0.000104  0.000104\n",
       "2016-12-19 -0.012308 -0.011125 -0.011021\n",
       "2015-04-16 -0.011630  0.000072 -0.010949\n",
       "2017-02-03 -0.009918 -0.000761 -0.011709\n",
       "2015-06-01 -0.007005  0.003015 -0.008695\n",
       "...              ...       ...       ...\n",
       "2020-04-07  0.009082 -0.001477 -0.144040\n",
       "2015-06-16  0.009332  0.001077 -0.142963\n",
       "2015-10-09  0.009408  0.002818 -0.140145\n",
       "2016-12-16  0.010620  0.000559 -0.139586\n",
       "2016-12-29  0.016041  0.003327 -0.136258\n",
       "\n",
       "[1191 rows x 3 columns]"
      ]
     },
     "execution_count": 3,
     "metadata": {},
     "output_type": "execute_result"
    }
   ],
   "source": [
    "data"
   ]
  },
  {
   "cell_type": "code",
   "execution_count": 17,
   "id": "bbbd0ad8",
   "metadata": {},
   "outputs": [
    {
     "data": {
      "text/plain": [
       "[<matplotlib.lines.Line2D at 0x196097d3910>]"
      ]
     },
     "execution_count": 17,
     "metadata": {},
     "output_type": "execute_result"
    },
    {
     "data": {
      "image/png": "[encoded data removed]",
      "text/plain": [
       "<Figure size 432x288 with 1 Axes>"
      ]
     },
     "metadata": {
      "needs_background": "light"
     },
     "output_type": "display_data"
    }
   ],
   "source": [
    "plt.plot(data['signal'],data['cumsum'])"
   ]
  },
  {
   "cell_type": "code",
   "execution_count": 7,
   "id": "8035d7e5",
   "metadata": {},
   "outputs": [],
   "source": [
    "data['k1']=data['cumsum'].div(range(1,len(data)+1))\n",
    "data['k1']=data['cumsum'].div(range(1,len(data)+1))"
   ]
  },
  {
   "cell_type": "code",
   "execution_count": 9,
   "id": "ab9c3a64",
   "metadata": {},
   "outputs": [
    {
     "data": {
      "text/plain": [
       "<AxesSubplot:>"
      ]
     },
     "execution_count": 9,
     "metadata": {},
     "output_type": "execute_result"
    },
    {
     "data": {
      "image/png": "[encoded data removed]",
      "text/plain": [
       "<Figure size 432x288 with 1 Axes>"
      ]
     },
     "metadata": {
      "needs_background": "light"
     },
     "output_type": "display_data"
    }
   ],
   "source": [
    "data['k1'].plot()"
   ]
  },
  {
   "cell_type": "code",
   "execution_count": 12,
   "id": "80619be4",
   "metadata": {},
   "outputs": [
    {
     "name": "stdout",
     "output_type": "stream",
     "text": [
      "\n",
      "                    Breakpoint Regression Results                     \n",
      "====================================================================================================\n",
      "No. Observations                     1191\n",
      "No. Model Parameters                    6\n",
      "Degrees of Freedom                   1185\n",
      "Res. Sum of Squares              0.188946\n",
      "Total Sum of Squares              3.68979\n",
      "R Squared                        0.948792\n",
      "Adjusted R Squared               0.948533\n",
      "Converged:                           True\n",
      "====================================================================================================\n",
      "====================================================================================================\n",
      "                    Estimate      Std Err            t        P>|t|       [0.025       0.975]\n",
      "----------------------------------------------------------------------------------------------------\n",
      "const             -0.0788784      0.00512      -15.413      5.43e-49    -0.088919    -0.068838\n",
      "alpha1              -6.82535        0.853      -7.9991      2.96e-15      -8.4994      -5.1513\n",
      "beta1               -51.1677         1.06      -48.419             -      -53.241      -49.094\n",
      "beta2                 76.356          0.7       109.01             -       74.982        77.73\n",
      "breakpoint1      -0.00394717      5.4e-05            -             -   -0.0040531   -0.0038412\n",
      "breakpoint2     -0.000319489     1.79e-05            -             -  -0.00035455  -0.00028443\n",
      "----------------------------------------------------------------------------------------------------\n",
      "These alphas(gradients of segments) are estimatedfrom betas(change in gradient)\n",
      "----------------------------------------------------------------------------------------------------\n",
      "alpha2              -57.9931        0.623      -93.021           0.0      -59.216       -56.77\n",
      "alpha3               18.3629        0.319       57.507           0.0       17.736       18.989\n",
      "====================================================================================================\n",
      "\n",
      "\n",
      "\n"
     ]
    },
    {
     "data": {
      "text/plain": [
       "'\\n                    Breakpoint Regression Results                     \\n====================================================================================================\\nNo. Observations                     1191\\nNo. Model Parameters                    6\\nDegrees of Freedom                   1185\\nRes. Sum of Squares              0.188946\\nTotal Sum of Squares              3.68979\\nR Squared                        0.948792\\nAdjusted R Squared               0.948533\\nConverged:                           True\\n====================================================================================================\\n====================================================================================================\\n                    Estimate      Std Err            t        P>|t|       [0.025       0.975]\\n----------------------------------------------------------------------------------------------------\\nconst             -0.0788784      0.00512      -15.413      5.43e-49    -0.088919    -0.068838\\nalpha1              -6.82535        0.853      -7.9991      2.96e-15      -8.4994      -5.1513\\nbeta1               -51.1677         1.06      -48.419             -      -53.241      -49.094\\nbeta2                 76.356          0.7       109.01             -       74.982        77.73\\nbreakpoint1      -0.00394717      5.4e-05            -             -   -0.0040531   -0.0038412\\nbreakpoint2     -0.000319489     1.79e-05            -             -  -0.00035455  -0.00028443\\n----------------------------------------------------------------------------------------------------\\nThese alphas(gradients of segments) are estimatedfrom betas(change in gradient)\\n----------------------------------------------------------------------------------------------------\\nalpha2              -57.9931        0.623      -93.021           0.0      -59.216       -56.77\\nalpha3               18.3629        0.319       57.507           0.0       17.736       18.989\\n====================================================================================================\\n\\n\\n'"
      ]
     },
     "execution_count": 12,
     "metadata": {},
     "output_type": "execute_result"
    }
   ],
   "source": [
    "import piecewise_regression\n",
    "a=piecewise_regression.Fit(list(data['signal']),list(data['cumsum']),n_breakpoints=2)\n",
    "a.summary()"
   ]
  },
  {
   "cell_type": "code",
   "execution_count": 26,
   "id": "5207d4a8",
   "metadata": {},
   "outputs": [
    {
     "name": "stdout",
     "output_type": "stream",
     "text": [
      "\n",
      "                    Breakpoint Regression Results                     \n",
      "====================================================================================================\n",
      "No. Observations                     1191\n",
      "No. Model Parameters                    6\n",
      "Degrees of Freedom                   1185\n",
      "Res. Sum of Squares              0.188946\n",
      "Total Sum of Squares              3.68979\n",
      "R Squared                        0.948792\n",
      "Adjusted R Squared               0.948533\n",
      "Converged:                           True\n",
      "====================================================================================================\n",
      "====================================================================================================\n",
      "                    Estimate      Std Err            t        P>|t|       [0.025       0.975]\n",
      "----------------------------------------------------------------------------------------------------\n",
      "const             -0.0788784      0.00512      -15.413      5.43e-49    -0.088919    -0.068838\n",
      "alpha1              -6.82535        0.853      -7.9991      2.96e-15      -8.4994      -5.1513\n",
      "beta1               -51.1677         1.06      -48.419             -      -53.241      -49.094\n",
      "beta2                 76.356          0.7       109.01             -       74.982        77.73\n",
      "breakpoint1      -0.00394717      5.4e-05            -             -   -0.0040531   -0.0038412\n",
      "breakpoint2     -0.000319489     1.79e-05            -             -  -0.00035455  -0.00028443\n",
      "----------------------------------------------------------------------------------------------------\n",
      "These alphas(gradients of segments) are estimatedfrom betas(change in gradient)\n",
      "----------------------------------------------------------------------------------------------------\n",
      "alpha2              -57.9931        0.623      -93.021           0.0      -59.216       -56.77\n",
      "alpha3               18.3629        0.319       57.507           0.0       17.736       18.989\n",
      "====================================================================================================\n",
      "\n",
      "\n",
      "\n"
     ]
    },
    {
     "data": {
      "text/plain": [
       "'\\n                    Breakpoint Regression Results                     \\n====================================================================================================\\nNo. Observations                     1191\\nNo. Model Parameters                    6\\nDegrees of Freedom                   1185\\nRes. Sum of Squares              0.188946\\nTotal Sum of Squares              3.68979\\nR Squared                        0.948792\\nAdjusted R Squared               0.948533\\nConverged:                           True\\n====================================================================================================\\n====================================================================================================\\n                    Estimate      Std Err            t        P>|t|       [0.025       0.975]\\n----------------------------------------------------------------------------------------------------\\nconst             -0.0788784      0.00512      -15.413      5.43e-49    -0.088919    -0.068838\\nalpha1              -6.82535        0.853      -7.9991      2.96e-15      -8.4994      -5.1513\\nbeta1               -51.1677         1.06      -48.419             -      -53.241      -49.094\\nbeta2                 76.356          0.7       109.01             -       74.982        77.73\\nbreakpoint1      -0.00394717      5.4e-05            -             -   -0.0040531   -0.0038412\\nbreakpoint2     -0.000319489     1.79e-05            -             -  -0.00035455  -0.00028443\\n----------------------------------------------------------------------------------------------------\\nThese alphas(gradients of segments) are estimatedfrom betas(change in gradient)\\n----------------------------------------------------------------------------------------------------\\nalpha2              -57.9931        0.623      -93.021           0.0      -59.216       -56.77\\nalpha3               18.3629        0.319       57.507           0.0       17.736       18.989\\n====================================================================================================\\n\\n\\n'"
      ]
     },
     "execution_count": 26,
     "metadata": {},
     "output_type": "execute_result"
    }
   ],
   "source": [
    "import piecewise_regression\n",
    "a=piecewise_regression.Fit(list(data['signal']),list(data['cumsum']),n_breakpoints=2)\n",
    "a.summary()"
   ]
  },
  {
   "cell_type": "code",
   "execution_count": 27,
   "id": "416802be",
   "metadata": {},
   "outputs": [
    {
     "data": {
      "image/png": "[encoded data removed]",
      "text/plain": [
       "<Figure size 432x288 with 1 Axes>"
      ]
     },
     "metadata": {
      "needs_background": "light"
     },
     "output_type": "display_data"
    }
   ],
   "source": [
    "a.plot()"
   ]
  },
  {
   "cell_type": "code",
   "execution_count": null,
   "id": "c89bc4cc",
   "metadata": {},
   "outputs": [],
   "source": []
  },
  {
   "cell_type": "code",
   "execution_count": 13,
   "id": "0ae4aa75",
   "metadata": {},
   "outputs": [
    {
     "data": {
      "text/plain": [
       "[<matplotlib.lines.Line2D at 0x1960946fd30>]"
      ]
     },
     "execution_count": 13,
     "metadata": {},
     "output_type": "execute_result"
    },
    {
     "data": {
      "image/png": "[encoded data removed]",
      "text/plain": [
       "<Figure size 432x288 with 1 Axes>"
      ]
     },
     "metadata": {
      "needs_background": "light"
     },
     "output_type": "display_data"
    }
   ],
   "source": [
    "\n",
    "\n",
    "from scipy import optimize\n",
    "import matplotlib.pyplot as plt\n",
    "import numpy as np\n",
    "\n",
    "x = np.array([1, 2, 3, 4, 5, 6, 7, 8, 9, 10 ,11, 12, 13, 14, 15], dtype=float)\n",
    "y = np.array([5, 7, 9, 11, 13, 15, 28.92, 42.81, 56.7, 70.59, 84.47, 98.36, 112.25, 126.14, 140.03])\n",
    "\n",
    "def piecewise_linear(x, x0, y0, k1, k2):\n",
    "    return np.piecewise(x, [x < x0, x >= x0], [lambda x:k1*x + y0-k1*x0, lambda x:k2*x + y0-k2*x0])\n",
    "\n",
    "p , e = optimize.curve_fit(piecewise_linear, x, y)\n",
    "xd = np.linspace(0, 15, 100)\n",
    "plt.plot(x, y, \"o\")\n",
    "plt.plot(xd, piecewise_linear(xd, *p))"
   ]
  },
  {
   "cell_type": "code",
   "execution_count": 14,
   "id": "8f57173b",
   "metadata": {},
   "outputs": [
    {
     "data": {
      "text/plain": [
       "array([ 5.9981956 , 14.9963912 ,  2.        , 13.89012121])"
      ]
     },
     "execution_count": 14,
     "metadata": {},
     "output_type": "execute_result"
    }
   ],
   "source": [
    "p"
   ]
  },
  {
   "cell_type": "code",
   "execution_count": 35,
   "id": "45f7f856",
   "metadata": {},
   "outputs": [],
   "source": [
    "\n",
    "from scipy import optimize\n",
    "import matplotlib.pyplot as plt\n",
    "import numpy as np\n",
    "\n",
    "x = np.array(data['signal'])\n",
    "y = np.array(data['cumsum'])\n",
    "\n",
    "def piecewise_linear(x, x1,x2,y0,k1,k2):\n",
    "    return np.piecewise(x, [x < x1, np.logical_and(x >= x1, x < x2),x>=x2], [lambda x:k1*x + y0-k1*x1,lambda x:x*0+y0, lambda x:k2*x + y0-k2*x2])\n",
    "\n",
    "p , e = optimize.curve_fit(piecewise_linear, x, y,bounds=([np.min(data['signal']),0,-np.inf,-np.inf,0],[0,np.max(data['signal']),np.inf,0,np.inf]))\n"
   ]
  },
  {
   "cell_type": "code",
   "execution_count": 38,
   "id": "8bcb9ade",
   "metadata": {},
   "outputs": [
    {
     "data": {
      "text/plain": [
       "array([-8.04295253e-18,  4.57156195e-04, -2.48537084e-01, -3.84556501e+01,\n",
       "        1.85413525e+01])"
      ]
     },
     "execution_count": 38,
     "metadata": {},
     "output_type": "execute_result"
    }
   ],
   "source": [
    "p"
   ]
  },
  {
   "cell_type": "code",
   "execution_count": 31,
   "id": "8dac9ea5",
   "metadata": {},
   "outputs": [
    {
     "data": {
      "text/plain": [
       "array([[inf, inf, inf, inf, inf],\n",
       "       [inf, inf, inf, inf, inf],\n",
       "       [inf, inf, inf, inf, inf],\n",
       "       [inf, inf, inf, inf, inf],\n",
       "       [inf, inf, inf, inf, inf]])"
      ]
     },
     "execution_count": 31,
     "metadata": {},
     "output_type": "execute_result"
    }
   ],
   "source": []
  },
  {
   "cell_type": "code",
   "execution_count": null,
   "id": "0461bb4c",
   "metadata": {},
   "outputs": [],
   "source": []
  },
  {
   "cell_type": "code",
   "execution_count": null,
   "id": "0db6814d",
   "metadata": {},
   "outputs": [],
   "source": []
  },
  {
   "cell_type": "code",
   "execution_count": null,
   "id": "e38112af",
   "metadata": {},
   "outputs": [],
   "source": []
  },
  {
   "cell_type": "code",
   "execution_count": null,
   "id": "7a52fe57",
   "metadata": {},
   "outputs": [],
   "source": []
  },
  {
   "cell_type": "code",
   "execution_count": null,
   "id": "75c7cbfa",
   "metadata": {},
   "outputs": [],
   "source": []
  },
  {
   "cell_type": "code",
   "execution_count": 16,
   "id": "91ba5421",
   "metadata": {},
   "outputs": [],
   "source": [
    "def piecewise_linear(x, x1,x2,y0,k1,k2):\n",
    "    return np.piecewise(x, [x < x1, x1<=x<=x2,x>x2], [lambda x:k1*x + y0-k1*x1,lambda x:y0, lambda x:k2*x + y0-k2*x2])\n"
   ]
  },
  {
   "cell_type": "code",
   "execution_count": null,
   "id": "058ad022",
   "metadata": {},
   "outputs": [],
   "source": [
    "import piecewise_regression\n",
    "a=piecewise_regression.Fit(list([np.linspace(-100,1000,200)]),list(),n_breakpoints=2)\n",
    "a.summary()"
   ]
  },
  {
   "cell_type": "code",
   "execution_count": 22,
   "id": "75f7ac43",
   "metadata": {},
   "outputs": [],
   "source": [
    "x=np.linspace(-100,100,200)\n",
    "y=[i*i+np.random.rand() for i in x]"
   ]
  },
  {
   "cell_type": "code",
   "execution_count": 23,
   "id": "07bf87d7",
   "metadata": {},
   "outputs": [
    {
     "name": "stdout",
     "output_type": "stream",
     "text": [
      "\n",
      "                    Breakpoint Regression Results                     \n",
      "====================================================================================================\n",
      "No. Observations                      200\n",
      "No. Model Parameters                    6\n",
      "Degrees of Freedom                    194\n",
      "Res. Sum of Squares           2.23756e+07\n",
      "Total Sum of Squares          1.81359e+09\n",
      "R Squared                        0.987662\n",
      "Adjusted R Squared               0.987279\n",
      "Converged:                           True\n",
      "====================================================================================================\n",
      "====================================================================================================\n",
      "                    Estimate      Std Err            t        P>|t|       [0.025       0.975]\n",
      "----------------------------------------------------------------------------------------------------\n",
      "const               -4167.28     1.53e+02      -27.264      2.83e-68      -4468.7      -3865.8\n",
      "alpha1              -134.675         2.18      -61.681     1.99e-129      -138.98      -130.37\n",
      "beta1                 133.67         3.05       43.775             -       127.65       139.69\n",
      "beta2                134.673         3.02        44.61             -       128.72       140.63\n",
      "breakpoint1         -34.0035        0.881            -             -      -35.742      -32.265\n",
      "breakpoint2          33.1649        0.871            -             -       31.446       34.884\n",
      "----------------------------------------------------------------------------------------------------\n",
      "These alphas(gradients of segments) are estimatedfrom betas(change in gradient)\n",
      "----------------------------------------------------------------------------------------------------\n",
      "alpha2              -1.00532         2.13     -0.47094         0.638      -5.2155       3.2049\n",
      "alpha3               133.667         2.13       62.617     1.24e-130       129.46       137.88\n",
      "====================================================================================================\n",
      "\n",
      "\n",
      "\n"
     ]
    },
    {
     "data": {
      "text/plain": [
       "'\\n                    Breakpoint Regression Results                     \\n====================================================================================================\\nNo. Observations                      200\\nNo. Model Parameters                    6\\nDegrees of Freedom                    194\\nRes. Sum of Squares           2.23756e+07\\nTotal Sum of Squares          1.81359e+09\\nR Squared                        0.987662\\nAdjusted R Squared               0.987279\\nConverged:                           True\\n====================================================================================================\\n====================================================================================================\\n                    Estimate      Std Err            t        P>|t|       [0.025       0.975]\\n----------------------------------------------------------------------------------------------------\\nconst               -4167.28     1.53e+02      -27.264      2.83e-68      -4468.7      -3865.8\\nalpha1              -134.675         2.18      -61.681     1.99e-129      -138.98      -130.37\\nbeta1                 133.67         3.05       43.775             -       127.65       139.69\\nbeta2                134.673         3.02        44.61             -       128.72       140.63\\nbreakpoint1         -34.0035        0.881            -             -      -35.742      -32.265\\nbreakpoint2          33.1649        0.871            -             -       31.446       34.884\\n----------------------------------------------------------------------------------------------------\\nThese alphas(gradients of segments) are estimatedfrom betas(change in gradient)\\n----------------------------------------------------------------------------------------------------\\nalpha2              -1.00532         2.13     -0.47094         0.638      -5.2155       3.2049\\nalpha3               133.667         2.13       62.617     1.24e-130       129.46       137.88\\n====================================================================================================\\n\\n\\n'"
      ]
     },
     "execution_count": 23,
     "metadata": {},
     "output_type": "execute_result"
    }
   ],
   "source": [
    "a=piecewise_regression.Fit(x,y,n_breakpoints=2)\n",
    "a.summary()"
   ]
  },
  {
   "cell_type": "code",
   "execution_count": 24,
   "id": "d9b9f8bb",
   "metadata": {},
   "outputs": [
    {
     "data": {
      "text/plain": [
       "[<matplotlib.lines.Line2D at 0x19609b90610>]"
      ]
     },
     "execution_count": 24,
     "metadata": {},
     "output_type": "execute_result"
    },
    {
     "data": {
      "image/png": "[encoded data removed]",
      "text/plain": [
       "<Figure size 432x288 with 1 Axes>"
      ]
     },
     "metadata": {
      "needs_background": "light"
     },
     "output_type": "display_data"
    }
   ],
   "source": [
    "plt.plot(x,y)"
   ]
  },
  {
   "cell_type": "code",
   "execution_count": 25,
   "id": "b4341e2d",
   "metadata": {},
   "outputs": [
    {
     "data": {
      "image/png": "[encoded data removed]",
      "text/plain": [
       "<Figure size 432x288 with 1 Axes>"
      ]
     },
     "metadata": {
      "needs_background": "light"
     },
     "output_type": "display_data"
    }
   ],
   "source": [
    "a.plot()"
   ]
  },
  {
   "cell_type": "code",
   "execution_count": null,
   "id": "d2f0f6eb",
   "metadata": {},
   "outputs": [],
   "source": []
  },
  {
   "cell_type": "code",
   "execution_count": null,
   "id": "3dc97f21",
   "metadata": {},
   "outputs": [],
   "source": []
  },
  {
   "cell_type": "code",
   "execution_count": null,
   "id": "94e85c1b",
   "metadata": {},
   "outputs": [],
   "source": []
  },
  {
   "cell_type": "code",
   "execution_count": null,
   "id": "82d0b23c",
   "metadata": {},
   "outputs": [],
   "source": []
  },
  {
   "cell_type": "code",
   "execution_count": null,
   "id": "213cb7b5",
   "metadata": {},
   "outputs": [],
   "source": []
  },
  {
   "cell_type": "code",
   "execution_count": null,
   "id": "6ca31701",
   "metadata": {},
   "outputs": [],
   "source": []
  },
  {
   "cell_type": "code",
   "execution_count": null,
   "id": "43ec21ca",
   "metadata": {},
   "outputs": [],
   "source": []
  },
  {
   "cell_type": "code",
   "execution_count": null,
   "id": "e26d8bed",
   "metadata": {},
   "outputs": [],
   "source": []
  },
  {
   "cell_type": "code",
   "execution_count": null,
   "id": "c23043f6",
   "metadata": {},
   "outputs": [],
   "source": []
  },
  {
   "cell_type": "code",
   "execution_count": 39,
   "id": "5b2d528f",
   "metadata": {},
   "outputs": [
    {
     "name": "stdout",
     "output_type": "stream",
     "text": [
      "0/1926 0 is ok\n",
      "1/1926 0 is ok\n",
      "2/1926 0 is ok\n",
      "3/1926 0 is ok\n",
      "4/1926 0 is ok\n",
      "5/1926 0 is ok\n",
      "6/1926 0 is ok\n",
      "7/1926 0 is ok\n",
      "8/1926 0 is ok\n",
      "9/1926 0 is ok\n",
      "10/1926 0 is ok\n",
      "11/1926 0 is ok\n",
      "12/1926 0 is ok\n",
      "13/1926 0 is ok\n",
      "14/1926 0 is ok\n",
      "15/1926 0 is ok\n",
      "16/1926 0 is ok\n",
      "17/1926 0 is ok\n",
      "18/1926 0 is ok\n",
      "19/1926 0 is ok\n",
      "20/1926 0 is ok\n",
      "21/1926 0 is ok\n",
      "22/1926 0 is ok\n",
      "23/1926 0 is ok\n",
      "24/1926 0 is ok\n",
      "25/1926 0 is ok\n",
      "26/1926 0 is ok\n",
      "27/1926 0 is ok\n",
      "28/1926 0 is ok\n",
      "29/1926 0 is ok\n",
      "30/1926 0 is ok\n",
      "31/1926 0 is ok\n",
      "32/1926 0 is ok\n",
      "33/1926 0 is ok\n",
      "34/1926 0 is ok\n",
      "35/1926 0 is ok\n",
      "36/1926 0 is ok\n",
      "37/1926 0 is ok\n",
      "38/1926 0 is ok\n",
      "39/1926 0 is ok\n",
      "40/1926 0 is ok\n",
      "41/1926 0 is ok\n",
      "42/1926 0 is ok\n",
      "43/1926 0 is ok\n",
      "44/1926 0 is ok\n",
      "45/1926 0 is ok\n",
      "46/1926 0 is ok\n",
      "47/1926 0 is ok\n",
      "48/1926 0 is ok\n",
      "49/1926 0 is ok\n",
      "50/1926 0 is ok\n",
      "51/1926 0 is ok\n",
      "52/1926 0 is ok\n",
      "53/1926 0 is ok\n",
      "54/1926 0 is ok\n",
      "55/1926 0 is ok\n",
      "56/1926 0 is ok\n",
      "57/1926 0 is ok\n",
      "58/1926 0 is ok\n",
      "59/1926 0 is ok\n",
      "60/1926 0 is ok\n",
      "61/1926 0 is ok\n",
      "62/1926 0 is ok\n",
      "63/1926 0 is ok\n",
      "64/1926 0 is ok\n",
      "65/1926 0 is ok\n",
      "66/1926 0 is ok\n",
      "67/1926 0 is ok\n",
      "68/1926 0 is ok\n",
      "69/1926 0 is ok\n",
      "70/1926 0 is ok\n",
      "71/1926 0 is ok\n",
      "72/1926 0 is ok\n",
      "73/1926 0 is ok\n",
      "74/1926 0 is ok\n",
      "75/1926 0 is ok\n",
      "76/1926 0 is ok\n",
      "77/1926 0 is ok\n",
      "78/1926 0 is ok\n",
      "79/1926 0 is ok\n",
      "80/1926 0 is ok\n",
      "81/1926 0 is ok\n",
      "82/1926 0 is ok\n",
      "83/1926 0 is ok\n",
      "84/1926 0 is ok\n",
      "85/1926 0 is ok\n",
      "86/1926 0 is ok\n",
      "87/1926 0 is ok\n",
      "88/1926 0 is ok\n",
      "89/1926 0 is ok\n",
      "90/1926 0 is ok\n",
      "91/1926 0 is ok\n",
      "92/1926 0 is ok\n",
      "93/1926 0 is ok\n",
      "94/1926 0 is ok\n",
      "95/1926 0 is ok\n",
      "96/1926 0 is ok\n",
      "97/1926 0 is ok\n",
      "98/1926 0 is ok\n",
      "99/1926 0 is ok\n",
      "100/1926 0 is ok\n",
      "101/1926 0 is ok\n",
      "102/1926 0 is ok\n",
      "103/1926 0 is ok\n",
      "104/1926 0 is ok\n",
      "105/1926 0 is ok\n",
      "106/1926 0 is ok\n",
      "107/1926 0 is ok\n",
      "108/1926 0 is ok\n",
      "109/1926 0 is ok\n",
      "110/1926 0 is ok\n",
      "111/1926 0 is ok\n",
      "112/1926 0 is ok\n",
      "113/1926 0 is ok\n",
      "114/1926 0 is ok\n",
      "115/1926 0 is ok\n",
      "116/1926 0 is ok\n",
      "117/1926 0 is ok\n",
      "118/1926 0 is ok\n",
      "119/1926 0 is ok\n",
      "120/1926 0 is ok\n",
      "121/1926 0 is ok\n",
      "122/1926 0 is ok\n",
      "123/1926 0 is ok\n",
      "124/1926 0 is ok\n",
      "125/1926 0 is ok\n",
      "126/1926 0 is ok\n",
      "127/1926 0 is ok\n",
      "128/1926 0 is ok\n",
      "129/1926 0 is ok\n",
      "130/1926 0 is ok\n",
      "131/1926 0 is ok\n",
      "132/1926 0 is ok\n",
      "133/1926 0 is ok\n",
      "134/1926 0 is ok\n",
      "135/1926 0 is ok\n",
      "136/1926 0 is ok\n",
      "137/1926 0 is ok\n",
      "138/1926 0 is ok\n",
      "139/1926 0 is ok\n",
      "140/1926 0 is ok\n",
      "141/1926 0 is ok\n",
      "142/1926 0 is ok\n",
      "143/1926 0 is ok\n",
      "144/1926 0 is ok\n",
      "145/1926 0 is ok\n",
      "146/1926 0 is ok\n",
      "147/1926 0 is ok\n",
      "148/1926 0 is ok\n",
      "149/1926 0 is ok\n",
      "150/1926 0 is ok\n",
      "151/1926 0 is ok\n",
      "152/1926 0 is ok\n",
      "153/1926 0 is ok\n",
      "154/1926 0 is ok\n",
      "155/1926 0 is ok\n",
      "156/1926 0 is ok\n",
      "157/1926 0 is ok\n",
      "158/1926 0 is ok\n",
      "159/1926 0 is ok\n",
      "160/1926 0 is ok\n",
      "161/1926 0 is ok\n",
      "162/1926 0 is ok\n",
      "163/1926 0 is ok\n",
      "164/1926 0 is ok\n",
      "165/1926 0 is ok\n",
      "166/1926 0 is ok\n",
      "167/1926 0 is ok\n",
      "168/1926 0 is ok\n",
      "169/1926 0 is ok\n",
      "170/1926 0 is ok\n",
      "171/1926 0 is ok\n",
      "172/1926 0 is ok\n",
      "173/1926 0 is ok\n",
      "174/1926 0 is ok\n",
      "175/1926 0 is ok\n",
      "176/1926 0 is ok\n",
      "177/1926 0 is ok\n",
      "178/1926 0 is ok\n",
      "179/1926 0 is ok\n",
      "180/1926 0 is ok\n",
      "181/1926 0 is ok\n",
      "182/1926 0 is ok\n",
      "183/1926 0 is ok\n",
      "184/1926 0 is ok\n",
      "185/1926 0 is ok\n",
      "186/1926 0 is ok\n",
      "187/1926 0 is ok\n",
      "188/1926 0 is ok\n",
      "189/1926 0 is ok\n",
      "190/1926 0 is ok\n",
      "191/1926 0 is ok\n",
      "192/1926 0 is ok\n",
      "193/1926 0 is ok\n",
      "194/1926 0 is ok\n",
      "195/1926 0 is ok\n",
      "196/1926 0 is ok\n",
      "197/1926 0 is ok\n",
      "198/1926 0 is ok\n",
      "199/1926 0 is ok\n",
      "200/1926 0 is ok\n",
      "201/1926 0 is ok\n",
      "202/1926 0 is ok\n",
      "203/1926 0 is ok\n",
      "204/1926 0 is ok\n",
      "205/1926 0 is ok\n",
      "206/1926 0 is ok\n",
      "207/1926 0 is ok\n",
      "208/1926 0 is ok\n",
      "209/1926 0 is ok\n",
      "210/1926 0 is ok\n",
      "211/1926 0 is ok\n",
      "212/1926 0 is ok\n",
      "213/1926 0 is ok\n",
      "214/1926 0 is ok\n",
      "215/1926 0 is ok\n",
      "216/1926 0 is ok\n",
      "217/1926 0 is ok\n",
      "218/1926 0 is ok\n",
      "219/1926 0 is ok\n",
      "220/1926 0 is ok\n",
      "221/1926 0 is ok\n",
      "222/1926 0 is ok\n",
      "223/1926 0 is ok\n",
      "224/1926 0 is ok\n",
      "225/1926 0 is ok\n",
      "226/1926 0 is ok\n",
      "227/1926 0 is ok\n",
      "228/1926 0 is ok\n",
      "229/1926 0 is ok\n",
      "230/1926 0 is ok\n",
      "231/1926 0 is ok\n",
      "232/1926 0 is ok\n",
      "233/1926 0 is ok\n",
      "234/1926 0 is ok\n",
      "235/1926 0 is ok\n",
      "236/1926 0 is ok\n",
      "237/1926 0 is ok\n",
      "238/1926 0 is ok\n",
      "239/1926 0 is ok\n",
      "240/1926 0 is ok\n",
      "241/1926 0 is ok\n",
      "242/1926 0 is ok\n",
      "243/1926 0 is ok\n",
      "244/1926 0 is ok\n",
      "245/1926 0 is ok\n",
      "246/1926 0 is ok\n",
      "247/1926 0 is ok\n",
      "248/1926 0 is ok\n",
      "249/1926 0 is ok\n",
      "250/1926 0 is ok\n",
      "251/1926 0 is ok\n",
      "252/1926 0 is ok\n",
      "253/1926 0 is ok\n",
      "254/1926 0 is ok\n",
      "255/1926 0 is ok\n",
      "256/1926 0 is ok\n",
      "257/1926 0 is ok\n",
      "258/1926 0 is ok\n",
      "259/1926 0 is ok\n",
      "260/1926 0 is ok\n",
      "261/1926 0 is ok\n",
      "262/1926 0 is ok\n",
      "263/1926 0 is ok\n",
      "264/1926 0 is ok\n",
      "265/1926 0 is ok\n",
      "266/1926 0 is ok\n",
      "267/1926 0 is ok\n",
      "268/1926 0 is ok\n",
      "269/1926 0 is ok\n",
      "270/1926 0 is ok\n",
      "271/1926 0 is ok\n",
      "272/1926 0 is ok\n",
      "273/1926 0 is ok\n",
      "274/1926 0 is ok\n",
      "275/1926 0 is ok\n",
      "276/1926 0 is ok\n",
      "277/1926 0 is ok\n",
      "278/1926 0 is ok\n",
      "279/1926 0 is ok\n",
      "280/1926 0 is ok\n",
      "281/1926 0 is ok\n",
      "282/1926 0 is ok\n",
      "283/1926 0 is ok\n",
      "284/1926 0 is ok\n",
      "285/1926 0 is ok\n",
      "286/1926 0 is ok\n",
      "287/1926 0 is ok\n",
      "288/1926 0 is ok\n",
      "289/1926 0 is ok\n",
      "290/1926 0 is ok\n",
      "291/1926 0 is ok\n",
      "292/1926 0 is ok\n",
      "293/1926 0 is ok\n",
      "294/1926 0 is ok\n",
      "295/1926 0 is ok\n",
      "296/1926 0 is ok\n",
      "297/1926 0 is ok\n",
      "298/1926 0 is ok\n",
      "299/1926 0 is ok\n",
      "300/1926 0 is ok\n",
      "301/1926 0 is ok\n",
      "302/1926 0 is ok\n",
      "303/1926 0 is ok\n",
      "304/1926 0 is ok\n",
      "305/1926 0 is ok\n",
      "306/1926 0 is ok\n",
      "307/1926 0 is ok\n",
      "308/1926 0 is ok\n",
      "309/1926 0 is ok\n",
      "310/1926 0 is ok\n",
      "311/1926 0 is ok\n",
      "312/1926 0 is ok\n",
      "313/1926 0 is ok\n",
      "314/1926 0 is ok\n",
      "315/1926 0 is ok\n",
      "316/1926 0 is ok\n",
      "317/1926 0 is ok\n",
      "318/1926 0 is ok\n",
      "319/1926 0 is ok\n",
      "320/1926 0 is ok\n",
      "321/1926 0 is ok\n",
      "322/1926 0 is ok\n",
      "323/1926 0 is ok\n",
      "324/1926 0 is ok\n",
      "325/1926 0 is ok\n",
      "326/1926 0 is ok\n",
      "327/1926 0 is ok\n",
      "328/1926 0 is ok\n",
      "329/1926 0 is ok\n",
      "330/1926 0 is ok\n",
      "331/1926 0 is ok\n",
      "332/1926 0 is ok\n",
      "333/1926 0 is ok\n",
      "334/1926 0 is ok\n",
      "335/1926 0 is ok\n",
      "336/1926 0 is ok\n",
      "337/1926 0 is ok\n",
      "338/1926 0 is ok\n",
      "339/1926 0 is ok\n",
      "340/1926 0 is ok\n",
      "341/1926 0 is ok\n",
      "342/1926 0 is ok\n",
      "343/1926 0 is ok\n",
      "344/1926 0 is ok\n",
      "345/1926 0 is ok\n",
      "346/1926 0 is ok\n",
      "347/1926 0 is ok\n",
      "348/1926 0 is ok\n",
      "349/1926 0 is ok\n",
      "350/1926 0 is ok\n",
      "351/1926 0 is ok\n",
      "352/1926 0 is ok\n",
      "353/1926 0 is ok\n",
      "354/1926 0 is ok\n",
      "355/1926 0 is ok\n",
      "356/1926 0 is ok\n",
      "357/1926 0 is ok\n",
      "358/1926 0 is ok\n",
      "359/1926 0 is ok\n",
      "360/1926 0 is ok\n",
      "361/1926 0 is ok\n",
      "362/1926 0 is ok\n",
      "363/1926 0 is ok\n",
      "364/1926 0 is ok\n",
      "365/1926 0 is ok\n",
      "366/1926 0 is ok\n",
      "367/1926 0 is ok\n",
      "368/1926 0 is ok\n",
      "369/1926 0 is ok\n",
      "370/1926 0 is ok\n",
      "371/1926 0 is ok\n",
      "372/1926 0 is ok\n",
      "373/1926 0 is ok\n",
      "374/1926 0 is ok\n",
      "375/1926 0 is ok\n",
      "376/1926 0 is ok\n",
      "377/1926 0 is ok\n",
      "378/1926 0 is ok\n",
      "379/1926 0 is ok\n",
      "380/1926 0 is ok\n",
      "381/1926 0 is ok\n",
      "382/1926 0 is ok\n",
      "383/1926 0 is ok\n",
      "384/1926 0 is ok\n",
      "385/1926 0 is ok\n",
      "386/1926 0 is ok\n",
      "387/1926 0 is ok\n",
      "388/1926 0 is ok\n",
      "389/1926 0 is ok\n",
      "390/1926 0 is ok\n",
      "391/1926 0 is ok\n",
      "392/1926 0 is ok\n",
      "393/1926 0 is ok\n",
      "394/1926 0 is ok\n",
      "395/1926 0 is ok\n",
      "396/1926 0 is ok\n",
      "397/1926 0 is ok\n",
      "398/1926 0 is ok\n",
      "399/1926 0 is ok\n",
      "400/1926 0 is ok\n",
      "401/1926 0 is ok\n",
      "402/1926 0 is ok\n",
      "403/1926 0 is ok\n",
      "404/1926 0 is ok\n",
      "405/1926 0 is ok\n",
      "406/1926 0 is ok\n",
      "407/1926 0 is ok\n",
      "408/1926 0 is ok\n",
      "409/1926 0 is ok\n",
      "410/1926 0 is ok\n",
      "411/1926 0 is ok\n",
      "412/1926 0 is ok\n",
      "413/1926 0 is ok\n",
      "414/1926 0 is ok\n",
      "415/1926 0 is ok\n",
      "416/1926 0 is ok\n",
      "417/1926 0 is ok\n",
      "418/1926 0 is ok\n",
      "419/1926 0 is ok\n",
      "420/1926 0 is ok\n",
      "421/1926 0 is ok\n",
      "422/1926 0 is ok\n",
      "423/1926 0 is ok\n",
      "424/1926 0 is ok\n",
      "425/1926 0 is ok\n",
      "426/1926 0 is ok\n",
      "427/1926 0 is ok\n",
      "428/1926 0 is ok\n",
      "429/1926 0 is ok\n",
      "430/1926 0 is ok\n",
      "431/1926 0 is ok\n",
      "432/1926 0 is ok\n",
      "433/1926 0 is ok\n",
      "434/1926 0 is ok\n",
      "435/1926 0 is ok\n",
      "436/1926 0 is ok\n",
      "437/1926 0 is ok\n",
      "438/1926 0 is ok\n",
      "439/1926 0 is ok\n",
      "440/1926 0 is ok\n",
      "441/1926 0 is ok\n",
      "442/1926 0 is ok\n",
      "443/1926 0 is ok\n",
      "444/1926 0 is ok\n",
      "445/1926 0 is ok\n",
      "446/1926 0 is ok\n",
      "447/1926 0 is ok\n",
      "448/1926 0 is ok\n",
      "449/1926 0 is ok\n",
      "450/1926 0 is ok\n",
      "451/1926 0 is ok\n",
      "452/1926 0 is ok\n",
      "453/1926 0 is ok\n",
      "454/1926 0 is ok\n",
      "455/1926 0 is ok\n",
      "456/1926 0 is ok\n",
      "457/1926 0 is ok\n",
      "458/1926 0 is ok\n",
      "459/1926 0 is ok\n",
      "460/1926 0 is ok\n",
      "461/1926 0 is ok\n",
      "462/1926 0 is ok\n",
      "463/1926 0 is ok\n",
      "464/1926 0 is ok\n",
      "465/1926 0 is ok\n",
      "466/1926 0 is ok\n",
      "467/1926 0 is ok\n",
      "468/1926 0 is ok\n",
      "469/1926 0 is ok\n",
      "470/1926 0 is ok\n",
      "471/1926 0 is ok\n",
      "472/1926 0 is ok\n",
      "473/1926 0 is ok\n",
      "474/1926 0 is ok\n",
      "475/1926 0 is ok\n",
      "476/1926 0 is ok\n",
      "477/1926 0 is ok\n",
      "478/1926 0 is ok\n",
      "479/1926 0 is ok\n",
      "480/1926 0 is ok\n",
      "481/1926 0 is ok\n",
      "482/1926 0 is ok\n"
     ]
    },
    {
     "ename": "RuntimeError",
     "evalue": "Optimal parameters not found: The maximum number of function evaluations is exceeded.",
     "output_type": "error",
     "traceback": [
      "\u001b[1;31m---------------------------------------------------------------------------\u001b[0m",
      "\u001b[1;31mRuntimeError\u001b[0m                              Traceback (most recent call last)",
      "Input \u001b[1;32mIn [39]\u001b[0m, in \u001b[0;36m<cell line: 16>\u001b[1;34m()\u001b[0m\n\u001b[0;32m     31\u001b[0m x\u001b[38;5;241m=\u001b[39mnp\u001b[38;5;241m.\u001b[39marray(df[\u001b[38;5;124m'\u001b[39m\u001b[38;5;124msignal\u001b[39m\u001b[38;5;124m'\u001b[39m])\n\u001b[0;32m     32\u001b[0m y\u001b[38;5;241m=\u001b[39mnp\u001b[38;5;241m.\u001b[39marray(df[\u001b[38;5;124m'\u001b[39m\u001b[38;5;124mcumpnl\u001b[39m\u001b[38;5;124m'\u001b[39m])\n\u001b[1;32m---> 33\u001b[0m piecewise_result\u001b[38;5;241m=\u001b[39m\u001b[43mpiece_wise_reg_signal_graph\u001b[49m\u001b[43m(\u001b[49m\u001b[43mx\u001b[49m\u001b[43m,\u001b[49m\u001b[43m \u001b[49m\u001b[43my\u001b[49m\u001b[43m)\u001b[49m\n\u001b[0;32m     34\u001b[0m long_threshold\u001b[38;5;241m.\u001b[39miloc[i, j] \u001b[38;5;241m=\u001b[39m piecewise_result[\u001b[38;5;241m0\u001b[39m]\n\u001b[0;32m     35\u001b[0m short_threshold\u001b[38;5;241m.\u001b[39miloc[i, j] \u001b[38;5;241m=\u001b[39m piecewise_result[\u001b[38;5;241m1\u001b[39m]\n",
      "Input \u001b[1;32mIn [39]\u001b[0m, in \u001b[0;36mpiece_wise_reg_signal_graph\u001b[1;34m(x, y)\u001b[0m\n\u001b[0;32m      5\u001b[0m \u001b[38;5;28;01mdef\u001b[39;00m \u001b[38;5;21mpiecewise_linear\u001b[39m(x, x1, x2, y0, k1, k2):\n\u001b[0;32m      6\u001b[0m     \u001b[38;5;28;01mreturn\u001b[39;00m np\u001b[38;5;241m.\u001b[39mpiecewise(x, [x \u001b[38;5;241m<\u001b[39m x1, np\u001b[38;5;241m.\u001b[39mlogical_and(x \u001b[38;5;241m>\u001b[39m\u001b[38;5;241m=\u001b[39m x1, x \u001b[38;5;241m<\u001b[39m x2), x \u001b[38;5;241m>\u001b[39m\u001b[38;5;241m=\u001b[39m x2],\n\u001b[0;32m      7\u001b[0m                         [\u001b[38;5;28;01mlambda\u001b[39;00m x: k1 \u001b[38;5;241m*\u001b[39m x \u001b[38;5;241m+\u001b[39m y0 \u001b[38;5;241m-\u001b[39m k1 \u001b[38;5;241m*\u001b[39m x1, \u001b[38;5;28;01mlambda\u001b[39;00m x: x \u001b[38;5;241m*\u001b[39m \u001b[38;5;241m0\u001b[39m \u001b[38;5;241m+\u001b[39m y0, \u001b[38;5;28;01mlambda\u001b[39;00m x: k2 \u001b[38;5;241m*\u001b[39m x \u001b[38;5;241m+\u001b[39m y0 \u001b[38;5;241m-\u001b[39m k2 \u001b[38;5;241m*\u001b[39m x2])\n\u001b[1;32m----> 9\u001b[0m param, _ \u001b[38;5;241m=\u001b[39m \u001b[43moptimize\u001b[49m\u001b[38;5;241;43m.\u001b[39;49m\u001b[43mcurve_fit\u001b[49m\u001b[43m(\u001b[49m\u001b[43mpiecewise_linear\u001b[49m\u001b[43m,\u001b[49m\u001b[43m \u001b[49m\u001b[43mx\u001b[49m\u001b[43m,\u001b[49m\u001b[43m \u001b[49m\u001b[43my\u001b[49m\u001b[43m,\u001b[49m\n\u001b[0;32m     10\u001b[0m \u001b[43m                              \u001b[49m\u001b[43mbounds\u001b[49m\u001b[38;5;241;43m=\u001b[39;49m\u001b[43m(\u001b[49m\u001b[43m[\u001b[49m\u001b[43mnp\u001b[49m\u001b[38;5;241;43m.\u001b[39;49m\u001b[43mmin\u001b[49m\u001b[43m(\u001b[49m\u001b[43mx\u001b[49m\u001b[43m)\u001b[49m\u001b[43m,\u001b[49m\u001b[43m \u001b[49m\u001b[38;5;241;43m0\u001b[39;49m\u001b[43m,\u001b[49m\u001b[43m \u001b[49m\u001b[38;5;241;43m-\u001b[39;49m\u001b[43mnp\u001b[49m\u001b[38;5;241;43m.\u001b[39;49m\u001b[43minf\u001b[49m\u001b[43m,\u001b[49m\u001b[43m \u001b[49m\u001b[38;5;241;43m-\u001b[39;49m\u001b[43mnp\u001b[49m\u001b[38;5;241;43m.\u001b[39;49m\u001b[43minf\u001b[49m\u001b[43m,\u001b[49m\u001b[43m \u001b[49m\u001b[38;5;241;43m0\u001b[39;49m\u001b[43m]\u001b[49m\u001b[43m,\u001b[49m\u001b[43m \u001b[49m\u001b[43m[\u001b[49m\u001b[38;5;241;43m0\u001b[39;49m\u001b[43m,\u001b[49m\u001b[43m \u001b[49m\u001b[43mnp\u001b[49m\u001b[38;5;241;43m.\u001b[39;49m\u001b[43mmax\u001b[49m\u001b[43m(\u001b[49m\u001b[43mx\u001b[49m\u001b[43m)\u001b[49m\u001b[43m,\u001b[49m\u001b[43m \u001b[49m\u001b[43mnp\u001b[49m\u001b[38;5;241;43m.\u001b[39;49m\u001b[43minf\u001b[49m\u001b[43m,\u001b[49m\u001b[43m \u001b[49m\u001b[38;5;241;43m0\u001b[39;49m\u001b[43m,\u001b[49m\u001b[43m \u001b[49m\u001b[43mnp\u001b[49m\u001b[38;5;241;43m.\u001b[39;49m\u001b[43minf\u001b[49m\u001b[43m]\u001b[49m\u001b[43m)\u001b[49m\u001b[43m)\u001b[49m\n\u001b[0;32m     11\u001b[0m \u001b[38;5;28;01mreturn\u001b[39;00m param\n",
      "File \u001b[1;32mC:\\ProgramData\\Anaconda3\\lib\\site-packages\\scipy\\optimize\\minpack.py:804\u001b[0m, in \u001b[0;36mcurve_fit\u001b[1;34m(f, xdata, ydata, p0, sigma, absolute_sigma, check_finite, bounds, method, jac, **kwargs)\u001b[0m\n\u001b[0;32m    800\u001b[0m res \u001b[38;5;241m=\u001b[39m least_squares(func, p0, jac\u001b[38;5;241m=\u001b[39mjac, bounds\u001b[38;5;241m=\u001b[39mbounds, method\u001b[38;5;241m=\u001b[39mmethod,\n\u001b[0;32m    801\u001b[0m                     \u001b[38;5;241m*\u001b[39m\u001b[38;5;241m*\u001b[39mkwargs)\n\u001b[0;32m    803\u001b[0m \u001b[38;5;28;01mif\u001b[39;00m \u001b[38;5;129;01mnot\u001b[39;00m res\u001b[38;5;241m.\u001b[39msuccess:\n\u001b[1;32m--> 804\u001b[0m     \u001b[38;5;28;01mraise\u001b[39;00m \u001b[38;5;167;01mRuntimeError\u001b[39;00m(\u001b[38;5;124m\"\u001b[39m\u001b[38;5;124mOptimal parameters not found: \u001b[39m\u001b[38;5;124m\"\u001b[39m \u001b[38;5;241m+\u001b[39m res\u001b[38;5;241m.\u001b[39mmessage)\n\u001b[0;32m    806\u001b[0m ysize \u001b[38;5;241m=\u001b[39m \u001b[38;5;28mlen\u001b[39m(res\u001b[38;5;241m.\u001b[39mfun)\n\u001b[0;32m    807\u001b[0m cost \u001b[38;5;241m=\u001b[39m \u001b[38;5;241m2\u001b[39m \u001b[38;5;241m*\u001b[39m res\u001b[38;5;241m.\u001b[39mcost  \u001b[38;5;66;03m# res.cost is half sum of squares!\u001b[39;00m\n",
      "\u001b[1;31mRuntimeError\u001b[0m: Optimal parameters not found: The maximum number of function evaluations is exceeded."
     ]
    }
   ],
   "source": [
    "weight_df_3=pd.read_csv(\"weight_df_3.csv\",index_col=0)\n",
    "ret_df_3=pd.read_csv(\"ret_df_3.csv\",index_col=0)\n",
    "\n",
    "def piece_wise_reg_signal_graph(x, y):\n",
    "    def piecewise_linear(x, x1, x2, y0, k1, k2):\n",
    "        return np.piecewise(x, [x < x1, np.logical_and(x >= x1, x < x2), x >= x2],\n",
    "                            [lambda x: k1 * x + y0 - k1 * x1, lambda x: x * 0 + y0, lambda x: k2 * x + y0 - k2 * x2])\n",
    "\n",
    "    param, _ = optimize.curve_fit(piecewise_linear, x, y,\n",
    "                                  bounds=([np.min(x), 0, -np.inf, -np.inf, 0], [0, np.max(x), np.inf, 0, np.inf]))\n",
    "    return param\n",
    "\n",
    "long_threshold=weight_df_3.copy()\n",
    "short_threshold=weight_df_3.copy()\n",
    "\n",
    "for j in range(len(weight_df_3.columns)):\n",
    "    for i in range(len(weight_df_3)):\n",
    "        if i<100:\n",
    "            long_threshold.iloc[i,j]=0\n",
    "            short_threshold.iloc[i,j]=0\n",
    "        else:\n",
    "            df=pd.concat([weight_df_3.iloc[:i,j],ret_df_3.iloc[:i,j]],axis=1)\n",
    "            df.columns=['signal','ret']\n",
    "            df=df.dropna()\n",
    "            if len(df)<100:\n",
    "                long_threshold.iloc[i, j] = 0\n",
    "                short_threshold.iloc[i, j] = 0\n",
    "            else:\n",
    "                try:\n",
    "                    df=df.sort_values(['signal'])\n",
    "                    df['cumpnl']=df['ret'].cumsum()\n",
    "                    x=np.array(df['signal'])\n",
    "                    y=np.array(df['cumpnl'])\n",
    "                    piecewise_result=piece_wise_reg_signal_graph(x, y)\n",
    "                    long_threshold.iloc[i, j] = piecewise_result[0]\n",
    "                    short_threshold.iloc[i, j] = piecewise_result[1]\n",
    "                except:\n",
    "                    long_threshold.iloc[i, j] = 0\n",
    "                    short_threshold.iloc[i, j] = 0\n",
    "        print(f\"{i}/{len(weight_df_3)} {j} is ok\")\n",
    "\n",
    "\n",
    "\n"
   ]
  },
  {
   "cell_type": "code",
   "execution_count": 42,
   "id": "8654c73d",
   "metadata": {},
   "outputs": [
    {
     "data": {
      "text/plain": [
       "[<matplotlib.lines.Line2D at 0x1960f1e7fd0>]"
      ]
     },
     "execution_count": 42,
     "metadata": {},
     "output_type": "execute_result"
    },
    {
     "data": {
      "image/png": "[encoded data removed]",
      "text/plain": [
       "<Figure size 432x288 with 1 Axes>"
      ]
     },
     "metadata": {
      "needs_background": "light"
     },
     "output_type": "display_data"
    }
   ],
   "source": [
    "plt.plot(df['signal'],df['cumpnl'])"
   ]
  },
  {
   "cell_type": "code",
   "execution_count": null,
   "id": "7e241c1a",
   "metadata": {},
   "outputs": [],
   "source": []
  },
  {
   "cell_type": "code",
   "execution_count": null,
   "id": "1c67e852",
   "metadata": {},
   "outputs": [],
   "source": []
  },
  {
   "cell_type": "code",
   "execution_count": null,
   "id": "e4bd5c13",
   "metadata": {},
   "outputs": [],
   "source": []
  },
  {
   "cell_type": "code",
   "execution_count": null,
   "id": "d56863fa",
   "metadata": {},
   "outputs": [],
   "source": []
  },
  {
   "cell_type": "code",
   "execution_count": null,
   "id": "5e6a7ae3",
   "metadata": {},
   "outputs": [],
   "source": []
  },
  {
   "cell_type": "code",
   "execution_count": null,
   "id": "5e29a526",
   "metadata": {},
   "outputs": [],
   "source": []
  },
  {
   "cell_type": "code",
   "execution_count": null,
   "id": "bde46d7a",
   "metadata": {},
   "outputs": [],
   "source": []
  },
  {
   "cell_type": "code",
   "execution_count": null,
   "id": "c4faba4d",
   "metadata": {},
   "outputs": [],
   "source": []
  }
 ],
 "metadata": {
  "kernelspec": {
   "display_name": "Python 3 (ipykernel)",
   "language": "python",
   "name": "python3"
  },
  "language_info": {
   "codemirror_mode": {
    "name": "ipython",
    "version": 3
   },
   "file_extension": ".py",
   "mimetype": "text/x-python",
   "name": "python",
   "nbconvert_exporter": "python",
   "pygments_lexer": "ipython3",
   "version": "3.9.12"
  }
 },
 "nbformat": 4,
 "nbformat_minor": 5
}
