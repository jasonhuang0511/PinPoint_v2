{
 "cells": [
  {
   "cell_type": "code",
   "execution_count": 1,
   "id": "b6022977",
   "metadata": {},
   "outputs": [],
   "source": [
    "import os\n",
    "import sys\n",
    "module_path = os.path.abspath(os.path.join('..'))\n",
    "if module_path not in sys.path:\n",
    "    sys.path.append(module_path)"
   ]
  },
  {
   "cell_type": "code",
   "execution_count": 2,
   "id": "51d57310",
   "metadata": {},
   "outputs": [],
   "source": [
    "from pathlib import Path\n",
    "from tqdm import tqdm\n",
    "\n",
    "import numpy as np\n",
    "import pandas as pd\n",
    "import seaborn as sns\n",
    "import matplotlib.pyplot as plt\n",
    "\n",
    "from scipy.stats import skewnorm, norm\n",
    "from deflation_sharpe_ratio import skew_to_alpha, moments, estimated_sharpe_ratio, ann_estimated_sharpe_ratio, probabilistic_sharpe_ratio, num_independent_trials, expected_maximum_sr, deflated_sharpe_ratio\n"
   ]
  },
  {
   "cell_type": "code",
   "execution_count": 3,
   "id": "b442db2b",
   "metadata": {},
   "outputs": [],
   "source": [
    "\n",
    "np.random.seed(0)"
   ]
  },
  {
   "cell_type": "code",
   "execution_count": 61,
   "id": "3544ab44",
   "metadata": {},
   "outputs": [],
   "source": [
    "data=pd.read_csv(r\"C:\\Users\\jason.huang\\research\\GP_momemntum\\nv_all_stock_index.csv\",index_col=0)\n",
    "nv_all=data.copy()\n",
    "universe=data.columns\n",
    "df_pfs_returns=data.diff().fillna(0)"
   ]
  },
  {
   "cell_type": "code",
   "execution_count": 12,
   "id": "754ebbe6",
   "metadata": {},
   "outputs": [
    {
     "data": {
      "text/plain": [
       "ts_roll_bias_pct(ts_roll_bias_div_mean(oi, int_4()), int_4())                                                                                                           2.337738\n",
       "ts_roll_cov(ts_roll_coef_variation_abs(settle, 10), ts_roll_bias(pct1, 10), int_8())                                                                                    2.301218\n",
       "ts_roll_bias_pct(ts_roll_bias_div_mean(oi, 4), int_4())                                                                                                                 2.290090\n",
       "ts_roll_bias_pct(ts_roll_bias_div_mean(oi, 5), int_4())                                                                                                                 2.267466\n",
       "ts_roll_cov(ts_roll_coef_variation_abs(settle, 10), ts_roll_bias(pct1, int_15()), int_8())                                                                              2.202836\n",
       "                                                                                                                                                                          ...   \n",
       "ts_roll_sum(ts_roll_bias_div_std(df_identy(df_sub(close, volume)), int_12()), int_120())                                                                                0.481567\n",
       "ts_roll_kurt(ts_roll_kurt(oi, 22), int_60())                                                                                                                            0.469786\n",
       "ts_roll_bias(df_add(df_negative(df_mul(high, historical_vol)), ts_roll_bias_div_std(ts_roll_zscore(pct3, 17), int_16())), int_60())                                     0.442219\n",
       "df_lag_n(ts_roll_cov(ts_roll_skew(pct2, 8), df_div(high, pct1), int_9()), int_90())                                                                                     0.426052\n",
       "ts_roll_corr_lag1diff(ts_roll_bias_div_std(df_divabs(ts_roll_kurt(df_diff_lag_1(low), int_14()), ts_roll_kurt(ts_roll_kurt(pct4, 5), int_40())), int_40()), int_2())    0.413792\n",
       "Length: 2143, dtype: float64"
      ]
     },
     "execution_count": 12,
     "metadata": {},
     "output_type": "execute_result"
    }
   ],
   "source": [
    "ann_best_srs = ann_estimated_sharpe_ratio(df_pfs_returns).sort_values(ascending=False)\n",
    "ann_best_srs"
   ]
  },
  {
   "cell_type": "code",
   "execution_count": 13,
   "id": "930d4fa5",
   "metadata": {},
   "outputs": [
    {
     "data": {
      "text/plain": [
       "ts_roll_bias_pct(ts_roll_bias_div_mean(oi, int_4()), int_4())                                                                                                           1.000000\n",
       "ts_roll_bias_pct(ts_roll_bias_div_mean(oi, 4), int_4())                                                                                                                 1.000000\n",
       "ts_roll_bias_pct(ts_roll_bias_div_mean(oi, 5), int_4())                                                                                                                 1.000000\n",
       "ts_roll_cov(ts_roll_coef_variation_abs(settle, 10), ts_roll_bias(pct1, 10), int_8())                                                                                    1.000000\n",
       "ts_roll_acceleration(df_diff_lag_1(low), int_60(), 3)                                                                                                                   0.999999\n",
       "                                                                                                                                                                          ...   \n",
       "ts_roll_sum(ts_roll_bias_div_std(df_identy(df_sub(close, volume)), int_12()), int_120())                                                                                0.843026\n",
       "ts_roll_kurt(ts_roll_kurt(oi, 22), int_60())                                                                                                                            0.839938\n",
       "ts_roll_bias(df_add(df_negative(df_mul(high, historical_vol)), ts_roll_bias_div_std(ts_roll_zscore(pct3, 17), int_16())), int_60())                                     0.822489\n",
       "df_lag_n(ts_roll_cov(ts_roll_skew(pct2, 8), df_div(high, pct1), int_9()), int_90())                                                                                     0.809293\n",
       "ts_roll_corr_lag1diff(ts_roll_bias_div_std(df_divabs(ts_roll_kurt(df_diff_lag_1(low), int_14()), ts_roll_kurt(ts_roll_kurt(pct4, 5), int_40())), int_40()), int_2())    0.807801\n",
       "Length: 2143, dtype: float64"
      ]
     },
     "execution_count": 13,
     "metadata": {},
     "output_type": "execute_result"
    }
   ],
   "source": [
    "probabilistic_sharpe_ratio(returns=df_pfs_returns, sr_benchmark=0).sort_values(ascending=False)"
   ]
  },
  {
   "cell_type": "code",
   "execution_count": 46,
   "id": "575e760c",
   "metadata": {},
   "outputs": [
    {
     "name": "stdout",
     "output_type": "stream",
     "text": [
      "ts_roll_bias_pct(ts_roll_bias_div_mean(oi, int_4()), int_4())\n"
     ]
    },
    {
     "data": {
      "text/plain": [
       "<AxesSubplot:>"
      ]
     },
     "execution_count": 46,
     "metadata": {},
     "output_type": "execute_result"
    },
    {
     "data": {
      "image/png": "[encoded data removed]",
      "text/plain": [
       "<Figure size 432x288 with 1 Axes>"
      ]
     },
     "metadata": {
      "needs_background": "light"
     },
     "output_type": "display_data"
    }
   ],
   "source": [
    "best_psr_pf_name = probabilistic_sharpe_ratio(returns=df_pfs_returns, sr_benchmark=0).sort_values(ascending=False).index[0]\n",
    "best_psr_pf_returns = df_pfs_returns[best_psr_pf_name]\n",
    "print(best_psr_pf_name)\n",
    "best_psr_pf_returns.cumsum().plot()"
   ]
  },
  {
   "cell_type": "code",
   "execution_count": 23,
   "id": "c626e1be",
   "metadata": {},
   "outputs": [
    {
     "data": {
      "text/plain": [
       "0.6631480439775994"
      ]
     },
     "execution_count": 23,
     "metadata": {},
     "output_type": "execute_result"
    }
   ],
   "source": [
    "dsr = deflated_sharpe_ratio(trials_returns=df_pfs_returns, returns_selected=best_psr_pf_returns)\n",
    "dsr"
   ]
  },
  {
   "cell_type": "code",
   "execution_count": 24,
   "id": "7ee9a686",
   "metadata": {},
   "outputs": [
    {
     "data": {
      "text/plain": [
       "2018-01-02    0.000000\n",
       "2018-01-03    0.000000\n",
       "2018-01-04    0.000000\n",
       "2018-01-05    0.000000\n",
       "2018-01-08    0.000000\n",
       "                ...   \n",
       "2022-09-26   -0.006064\n",
       "2022-09-27   -0.011554\n",
       "2022-09-28    0.006419\n",
       "2022-09-29    0.000982\n",
       "2022-09-30    0.007287\n",
       "Name: ts_roll_acceleration(ts_roll_bias_div_mean(settle, int_40()), int_13(), int_60()), Length: 1155, dtype: float64"
      ]
     },
     "execution_count": 24,
     "metadata": {},
     "output_type": "execute_result"
    }
   ],
   "source": [
    "best_psr_pf_returns"
   ]
  },
  {
   "cell_type": "code",
   "execution_count": 38,
   "id": "99302bf9",
   "metadata": {},
   "outputs": [
    {
     "data": {
      "text/plain": [
       "1.0646728457308145e-93"
      ]
     },
     "execution_count": 38,
     "metadata": {},
     "output_type": "execute_result"
    }
   ],
   "source": [
    "deflated_sharpe_ratio(trials_returns=df_pfs_returns,returns_selected=best_psr_pf_returns.iloc[-400:],expected_max_sr=1)"
   ]
  },
  {
   "cell_type": "code",
   "execution_count": 44,
   "id": "2c7004ca",
   "metadata": {},
   "outputs": [
    {
     "data": {
      "text/plain": [
       "2020-12-25    0.008429\n",
       "2020-12-28    0.002096\n",
       "2020-12-29   -0.002142\n",
       "2020-12-30    0.009378\n",
       "2020-12-31   -0.012304\n",
       "                ...   \n",
       "2021-12-31    0.000390\n",
       "2022-01-04    0.000159\n",
       "2022-01-05   -0.010194\n",
       "2022-01-06    0.006057\n",
       "2022-01-07   -0.001054\n",
       "Name: ts_roll_acceleration(ts_roll_bias_div_mean(settle, int_40()), int_13(), int_60()), Length: 252, dtype: float64"
      ]
     },
     "execution_count": 44,
     "metadata": {},
     "output_type": "execute_result"
    }
   ],
   "source": [
    "best_psr_pf_returns.iloc[-430:(-430+252)]"
   ]
  },
  {
   "cell_type": "code",
   "execution_count": 58,
   "id": "5aff6892",
   "metadata": {},
   "outputs": [
    {
     "data": {
      "text/plain": [
       "0.14357689126866124"
      ]
     },
     "execution_count": 58,
     "metadata": {},
     "output_type": "execute_result"
    }
   ],
   "source": [
    "deflated_sharpe_ratio(trials_returns=df_pfs_returns.iloc[-430:(-430+252)],returns_selected=df_pfs_returns.iloc[-430:(-430+252),100])"
   ]
  },
  {
   "cell_type": "code",
   "execution_count": 59,
   "id": "b6fcb809",
   "metadata": {},
   "outputs": [
    {
     "data": {
      "text/plain": [
       "<AxesSubplot:>"
      ]
     },
     "execution_count": 59,
     "metadata": {},
     "output_type": "execute_result"
    },
    {
     "data": {
      "image/png": "[encoded data removed]",
      "text/plain": [
       "<Figure size 432x288 with 1 Axes>"
      ]
     },
     "metadata": {
      "needs_background": "light"
     },
     "output_type": "display_data"
    }
   ],
   "source": [
    "df_pfs_returns.iloc[-430:(-430+252),100].cumsum().plot()"
   ]
  },
  {
   "cell_type": "code",
   "execution_count": null,
   "id": "82f3a30c",
   "metadata": {},
   "outputs": [],
   "source": [
    "roll_num=252\n",
    "ret_all=nv_all.diff()\n",
    "dsr_weight=pd.DataFrame(index=nv_all.index,columns=nv_all.columns)\n",
    "for i in range(len(dsr_weight)):\n",
    "    if i<index:\n",
    "        pass\n",
    "    else:\n",
    "        for j in range(len(dsr_weight.columns)):\n",
    "            dsr_weight.iloc[i,j]=deflated_sharpe_ratio(trials_returns=ret_all.iloc[(i-roll_num):i,:],returns_selected=ret_all.iloc[(i-roll_num):i,j])\n"
   ]
  },
  {
   "cell_type": "code",
   "execution_count": null,
   "id": "435418ff",
   "metadata": {},
   "outputs": [],
   "source": []
  }
 ],
 "metadata": {
  "kernelspec": {
   "display_name": "Python 3 (ipykernel)",
   "language": "python",
   "name": "python3"
  },
  "language_info": {
   "codemirror_mode": {
    "name": "ipython",
    "version": 3
   },
   "file_extension": ".py",
   "mimetype": "text/x-python",
   "name": "python",
   "nbconvert_exporter": "python",
   "pygments_lexer": "ipython3",
   "version": "3.9.12"
  }
 },
 "nbformat": 4,
 "nbformat_minor": 5
}
